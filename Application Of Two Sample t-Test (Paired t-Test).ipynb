{
 "cells": [
  {
   "cell_type": "code",
   "execution_count": 1,
   "id": "2d90ea5f",
   "metadata": {},
   "outputs": [],
   "source": [
    "import numpy as np\n",
    "import pandas as pd\n",
    "import matplotlib.pyplot as plt\n",
    "import seaborn as sns\n",
    "from statsmodels.stats import weightstats \n",
    "import scipy.stats as stats"
   ]
  },
  {
   "cell_type": "markdown",
   "id": "44957644",
   "metadata": {},
   "source": [
    "# Question:\n",
    "\n",
    "Before and After medicine Blood Preasure (BP) was measured. If there a difference at 95% confidence level?\n",
    "\n",
    "- Before : 120,122,143,100,109\n",
    "- After  : 122,120,141,109,109"
   ]
  },
  {
   "cell_type": "code",
   "execution_count": 2,
   "id": "94b113c0",
   "metadata": {},
   "outputs": [],
   "source": [
    "Before = [120,122,143,100,109]\n",
    "After  = [122,120,141,109,109]"
   ]
  },
  {
   "cell_type": "code",
   "execution_count": 3,
   "id": "8e0c91d4",
   "metadata": {},
   "outputs": [
    {
     "name": "stdout",
     "output_type": "stream",
     "text": [
      "Z-Calculated: -0.6864064729836442\n",
      "P-Value: 0.5301776477578163\n"
     ]
    }
   ],
   "source": [
    "t_cal, p_val = stats.ttest_rel(Before, After, alternative='two-sided')\n",
    "\n",
    "print(f\"Z-Calculated: {t_cal}\")\n",
    "print(f\"P-Value: {p_val}\")"
   ]
  },
  {
   "cell_type": "markdown",
   "id": "8f609436",
   "metadata": {},
   "source": [
    "Now Compare P-Value with Alpha i.e 0.05.\n",
    "\n",
    "- We notice that P-Value > Alpha, Therefore **FAIL TO REJECT** H0.\n",
    "\n",
    "<br>\n",
    "_____________________________________________________________________________________________________________________________"
   ]
  },
  {
   "cell_type": "code",
   "execution_count": null,
   "id": "917fbaaf",
   "metadata": {},
   "outputs": [],
   "source": []
  }
 ],
 "metadata": {
  "kernelspec": {
   "display_name": "Python 3",
   "language": "python",
   "name": "python3"
  },
  "language_info": {
   "codemirror_mode": {
    "name": "ipython",
    "version": 3
   },
   "file_extension": ".py",
   "mimetype": "text/x-python",
   "name": "python",
   "nbconvert_exporter": "python",
   "pygments_lexer": "ipython3",
   "version": "3.7.7"
  }
 },
 "nbformat": 4,
 "nbformat_minor": 5
}

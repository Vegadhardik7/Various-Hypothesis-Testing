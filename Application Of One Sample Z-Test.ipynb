{
 "cells": [
  {
   "cell_type": "markdown",
   "id": "3d6e755d",
   "metadata": {},
   "source": [
    "# Question 1:\n",
    "\n",
    "A machine is producing perfume bottles with the long term average of 150cc and the standard deviation of 2 cc.\n",
    "Four bottles were picked and the average volume was found to be 153.8cc.\n",
    "Has the average volume changed from 150cc? Test with 95% confidence level.\n",
    "\n",
    "\n",
    "- Null Hypothesis (H0): Mean volume = 150cc\n",
    "\n",
    "\n",
    "- Alternate Hypothesis (H1): Mean volume != 150cc\n",
    "\n",
    "\n",
    "- Alpha = 1 - 0.95 = 0.05\n",
    "\n",
    "\n",
    "- Z calculated = (Observed mean - population mean) / standard error\n",
    "\n",
    "            z = (x — μ) / (σ / √n)\n",
    "            \n",
    "            \n",
    "**THIS IS A 2 TAIL TEST** so we will be looking 0.025 at extreme LEFT and 0.025 at RIGHT."
   ]
  },
  {
   "cell_type": "code",
   "execution_count": 1,
   "id": "650b87bf",
   "metadata": {},
   "outputs": [],
   "source": [
    "import numpy as np\n",
    "import pandas as pd\n",
    "import matplotlib.pyplot as plt\n",
    "import seaborn as sns\n",
    "from statsmodels.stats import weightstats\n",
    "import scipy.stats as stats"
   ]
  },
  {
   "cell_type": "markdown",
   "id": "927352fa",
   "metadata": {},
   "source": [
    "# One Sample Z-Test"
   ]
  },
  {
   "cell_type": "code",
   "execution_count": 2,
   "id": "88b3ed18",
   "metadata": {},
   "outputs": [
    {
     "data": {
      "text/html": [
       "<div>\n",
       "<style scoped>\n",
       "    .dataframe tbody tr th:only-of-type {\n",
       "        vertical-align: middle;\n",
       "    }\n",
       "\n",
       "    .dataframe tbody tr th {\n",
       "        vertical-align: top;\n",
       "    }\n",
       "\n",
       "    .dataframe thead th {\n",
       "        text-align: right;\n",
       "    }\n",
       "</style>\n",
       "<table border=\"1\" class=\"dataframe\">\n",
       "  <thead>\n",
       "    <tr style=\"text-align: right;\">\n",
       "      <th></th>\n",
       "      <th>Machine 1</th>\n",
       "    </tr>\n",
       "  </thead>\n",
       "  <tbody>\n",
       "    <tr>\n",
       "      <th>0</th>\n",
       "      <td>152.63</td>\n",
       "    </tr>\n",
       "    <tr>\n",
       "      <th>1</th>\n",
       "      <td>152.94</td>\n",
       "    </tr>\n",
       "    <tr>\n",
       "      <th>2</th>\n",
       "      <td>151.29</td>\n",
       "    </tr>\n",
       "    <tr>\n",
       "      <th>3</th>\n",
       "      <td>153.44</td>\n",
       "    </tr>\n",
       "    <tr>\n",
       "      <th>4</th>\n",
       "      <td>148.58</td>\n",
       "    </tr>\n",
       "  </tbody>\n",
       "</table>\n",
       "</div>"
      ],
      "text/plain": [
       "   Machine 1\n",
       "0     152.63\n",
       "1     152.94\n",
       "2     151.29\n",
       "3     153.44\n",
       "4     148.58"
      ]
     },
     "execution_count": 2,
     "metadata": {},
     "output_type": "execute_result"
    }
   ],
   "source": [
    "df = pd.read_csv(r\"D:\\Dig\\00-imarticus\\udemy_data\\Machine1.csv\")\n",
    "df.head()"
   ]
  },
  {
   "cell_type": "code",
   "execution_count": 3,
   "id": "3811a869",
   "metadata": {},
   "outputs": [
    {
     "data": {
      "text/plain": [
       "(100, 1)"
      ]
     },
     "execution_count": 3,
     "metadata": {},
     "output_type": "execute_result"
    }
   ],
   "source": [
    "df.shape"
   ]
  },
  {
   "cell_type": "code",
   "execution_count": 4,
   "id": "4c2571fa",
   "metadata": {},
   "outputs": [
    {
     "data": {
      "text/html": [
       "<div>\n",
       "<style scoped>\n",
       "    .dataframe tbody tr th:only-of-type {\n",
       "        vertical-align: middle;\n",
       "    }\n",
       "\n",
       "    .dataframe tbody tr th {\n",
       "        vertical-align: top;\n",
       "    }\n",
       "\n",
       "    .dataframe thead th {\n",
       "        text-align: right;\n",
       "    }\n",
       "</style>\n",
       "<table border=\"1\" class=\"dataframe\">\n",
       "  <thead>\n",
       "    <tr style=\"text-align: right;\">\n",
       "      <th></th>\n",
       "      <th>count</th>\n",
       "      <th>mean</th>\n",
       "      <th>std</th>\n",
       "      <th>min</th>\n",
       "      <th>25%</th>\n",
       "      <th>50%</th>\n",
       "      <th>75%</th>\n",
       "      <th>max</th>\n",
       "    </tr>\n",
       "  </thead>\n",
       "  <tbody>\n",
       "    <tr>\n",
       "      <th>Machine 1</th>\n",
       "      <td>100.0</td>\n",
       "      <td>150.2031</td>\n",
       "      <td>2.018812</td>\n",
       "      <td>145.55</td>\n",
       "      <td>148.7175</td>\n",
       "      <td>150.285</td>\n",
       "      <td>151.5025</td>\n",
       "      <td>154.55</td>\n",
       "    </tr>\n",
       "  </tbody>\n",
       "</table>\n",
       "</div>"
      ],
      "text/plain": [
       "           count      mean       std     min       25%      50%       75%  \\\n",
       "Machine 1  100.0  150.2031  2.018812  145.55  148.7175  150.285  151.5025   \n",
       "\n",
       "              max  \n",
       "Machine 1  154.55  "
      ]
     },
     "execution_count": 4,
     "metadata": {},
     "output_type": "execute_result"
    }
   ],
   "source": [
    "df.describe().T"
   ]
  },
  {
   "cell_type": "code",
   "execution_count": 5,
   "id": "34c8c4b5",
   "metadata": {},
   "outputs": [
    {
     "data": {
      "text/plain": [
       "<seaborn.axisgrid.FacetGrid at 0x1cfaf9e69c8>"
      ]
     },
     "execution_count": 5,
     "metadata": {},
     "output_type": "execute_result"
    },
    {
     "data": {
      "image/png": "[encoded data removed]",
      "text/plain": [
       "<Figure size 360x360 with 1 Axes>"
      ]
     },
     "metadata": {
      "needs_background": "light"
     },
     "output_type": "display_data"
    }
   ],
   "source": [
    "sns.displot(data=df, x='Machine 1')"
   ]
  },
  {
   "cell_type": "code",
   "execution_count": 8,
   "id": "36431959",
   "metadata": {},
   "outputs": [
    {
     "data": {
      "text/plain": [
       "<seaborn.axisgrid.FacetGrid at 0x1cfb0167748>"
      ]
     },
     "execution_count": 8,
     "metadata": {},
     "output_type": "execute_result"
    },
    {
     "data": {
      "image/png": "[encoded data removed]",
      "text/plain": [
       "<Figure size 360x360 with 1 Axes>"
      ]
     },
     "metadata": {
      "needs_background": "light"
     },
     "output_type": "display_data"
    }
   ],
   "source": [
    "sns.catplot(data=df, y='Machine 1', kind='box')"
   ]
  },
  {
   "cell_type": "code",
   "execution_count": 9,
   "id": "e806fbab",
   "metadata": {},
   "outputs": [
    {
     "name": "stdout",
     "output_type": "stream",
     "text": [
      "Z-Calculated: 1.0060370247722599\n",
      "P-Value: 0.3143977600779597\n"
     ]
    }
   ],
   "source": [
    "# One Sample Z-Test: (2 TAIL TEST)\n",
    "\n",
    "X = df['Machine 1']\n",
    "\n",
    "Z_cal, p_value = weightstats.ztest(x1 = X, value = 150, alternative='two-sided')\n",
    "\n",
    "print(f\"Z-Calculated: {Z_cal}\")\n",
    "print(f\"P-Value: {p_value}\")"
   ]
  },
  {
   "cell_type": "markdown",
   "id": "559e37d6",
   "metadata": {},
   "source": [
    "Now Compare P-Value with Alpha i.e 0.05.\n",
    "\n",
    "- We notice that P-Value > Alpha, Therefore **FAIL TO REJECT** H0.\n",
    "\n",
    "<br>\n",
    "_____________________________________________________________________________________________________________________________"
   ]
  },
  {
   "cell_type": "markdown",
   "id": "506676c8",
   "metadata": {},
   "source": [
    "# Question 2:\n",
    "\n",
    "A machine is producing perfume bottles with the long term average of 150cc and the standard deviation of 2 cc.\n",
    "Four bottles were picked and the average volume was found to be 153.8cc.\n",
    "Has the average volume **increased** from 150cc? Test with 95% confidence level.\n",
    "\n",
    "\n",
    "- Null Hypothesis (H0): Mean volume = 150cc\n",
    "\n",
    "\n",
    "- Alternate Hypothesis (H1): Mean volume != 150cc\n",
    "\n",
    "\n",
    "- Alpha = 1 - 0.95 = 0.05\n",
    "\n",
    "\n",
    "- Z calculated = (Observed mean - population mean) / standard error\n",
    "\n",
    "            z = (x — μ) / (σ / √n)\n",
    "            \n",
    "            \n",
    "**THIS IS A 1 TAIL TEST** so we will be looking 0.05 at extreme RIGHT."
   ]
  },
  {
   "cell_type": "code",
   "execution_count": 10,
   "id": "1660f10a",
   "metadata": {},
   "outputs": [
    {
     "name": "stdout",
     "output_type": "stream",
     "text": [
      "Z-Calculated: 1.0060370247722599\n",
      "P-Value: 0.15719888003897986\n"
     ]
    }
   ],
   "source": [
    "# One Sample Z-Test: (1 TAIL TEST)\n",
    "\n",
    "X = df['Machine 1']\n",
    "\n",
    "Z_cal, p_value = weightstats.ztest(x1 = X, value = 150, alternative='larger')\n",
    "\n",
    "print(f\"Z-Calculated: {Z_cal}\")\n",
    "print(f\"P-Value: {p_value}\")"
   ]
  },
  {
   "cell_type": "markdown",
   "id": "f1d224c2",
   "metadata": {},
   "source": [
    "Now Compare P-Value with Alpha i.e 0.05.\n",
    "\n",
    "- We notice that P-Value > Alpha, Therefore **FAIL TO REJECT** H0."
   ]
  },
  {
   "cell_type": "code",
   "execution_count": null,
   "id": "dde5f810",
   "metadata": {},
   "outputs": [],
   "source": []
  }
 ],
 "metadata": {
  "kernelspec": {
   "display_name": "Python 3",
   "language": "python",
   "name": "python3"
  },
  "language_info": {
   "codemirror_mode": {
    "name": "ipython",
    "version": 3
   },
   "file_extension": ".py",
   "mimetype": "text/x-python",
   "name": "python",
   "nbconvert_exporter": "python",
   "pygments_lexer": "ipython3",
   "version": "3.7.7"
  }
 },
 "nbformat": 4,
 "nbformat_minor": 5
}

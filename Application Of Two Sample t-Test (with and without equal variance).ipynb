{
 "cells": [
  {
   "cell_type": "code",
   "execution_count": 1,
   "id": "9af8b2e7",
   "metadata": {},
   "outputs": [],
   "source": [
    "import numpy as np\n",
    "import pandas as pd\n",
    "import matplotlib.pyplot as plt\n",
    "import seaborn as sns\n",
    "from statsmodels.stats import weightstats \n",
    "import scipy.stats as stats"
   ]
  },
  {
   "cell_type": "markdown",
   "id": "ace2c056",
   "metadata": {},
   "source": [
    "# Example 1: (Variance Are Equal)\n",
    "\n",
    "Samples from 2 machines A and B have the following volumes in bottles.\n",
    "\n",
    "- Machine A: 150,152,154,152,151\n",
    "- Machine B: 156,155,158,155,154\n",
    "\n",
    "Is the mean different? Calculate with 95% confidence."
   ]
  },
  {
   "cell_type": "code",
   "execution_count": 2,
   "id": "94224041",
   "metadata": {},
   "outputs": [],
   "source": [
    "Machine_A = [150,152,154,152,151]\n",
    "Machine_B = [156,155,158,155,154]"
   ]
  },
  {
   "cell_type": "code",
   "execution_count": 3,
   "id": "08d16f87",
   "metadata": {},
   "outputs": [
    {
     "name": "stdout",
     "output_type": "stream",
     "text": [
      "t-Calculated: -4.005551702879929\n",
      "P-Value: 0.003919295477128331\n"
     ]
    }
   ],
   "source": [
    "t_cal, p_val = stats.ttest_ind(Machine_A, Machine_B, equal_var = True)\n",
    "\n",
    "print(f\"t-Calculated: {t_cal}\")\n",
    "print(f\"P-Value: {p_val}\")"
   ]
  },
  {
   "cell_type": "markdown",
   "id": "01fab278",
   "metadata": {},
   "source": [
    "Now Compare P-Value with Alpha i.e 0.05.\n",
    "\n",
    "- We notice that P-Value < Alpha, Therefore **REJECT** H0.\n",
    "\n",
    "<br>\n",
    "_____________________________________________________________________________________________________________________________"
   ]
  },
  {
   "cell_type": "markdown",
   "id": "99da99ef",
   "metadata": {},
   "source": [
    "# Example 2: (Variance Are NOT Equal)\n",
    "\n",
    "Samples from 2 machines A and C have the following volumes in bottles.\n",
    "\n",
    "- Machine A: 150,152,154,152,151\n",
    "- Machine C: 144,162,177,150,140\n",
    "\n",
    "Is the mean different? Calculate with 95% confidence."
   ]
  },
  {
   "cell_type": "code",
   "execution_count": 4,
   "id": "b2d5b0fb",
   "metadata": {},
   "outputs": [],
   "source": [
    "Machine_A = [150,152,154,152,151]\n",
    "Machine_C = [144,162,177,150,140]"
   ]
  },
  {
   "cell_type": "code",
   "execution_count": 5,
   "id": "eb8ec13b",
   "metadata": {},
   "outputs": [
    {
     "name": "stdout",
     "output_type": "stream",
     "text": [
      "t-Calculated: -0.4146442144313621\n",
      "P-Value: 0.699289145758865\n"
     ]
    }
   ],
   "source": [
    "t_cal, p_val = stats.ttest_ind(Machine_A, Machine_C, equal_var = False)\n",
    "\n",
    "print(f\"t-Calculated: {t_cal}\")\n",
    "print(f\"P-Value: {p_val}\")"
   ]
  },
  {
   "cell_type": "markdown",
   "id": "e6487f74",
   "metadata": {},
   "source": [
    "Now Compare P-Value with Alpha i.e 0.05.\n",
    "\n",
    "- We notice that P-Value > Alpha, Therefore **FAIL TO REJECT** H0.\n",
    "\n",
    "<br>\n",
    "_____________________________________________________________________________________________________________________________"
   ]
  },
  {
   "cell_type": "code",
   "execution_count": null,
   "id": "32b02001",
   "metadata": {},
   "outputs": [],
   "source": []
  }
 ],
 "metadata": {
  "kernelspec": {
   "display_name": "Python 3",
   "language": "python",
   "name": "python3"
  },
  "language_info": {
   "codemirror_mode": {
    "name": "ipython",
    "version": 3
   },
   "file_extension": ".py",
   "mimetype": "text/x-python",
   "name": "python",
   "nbconvert_exporter": "python",
   "pygments_lexer": "ipython3",
   "version": "3.7.7"
  }
 },
 "nbformat": 4,
 "nbformat_minor": 5
}

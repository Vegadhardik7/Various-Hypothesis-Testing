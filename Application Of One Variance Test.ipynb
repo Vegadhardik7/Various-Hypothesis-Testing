{
 "cells": [
  {
   "cell_type": "code",
   "execution_count": 1,
   "id": "67fa03af",
   "metadata": {},
   "outputs": [],
   "source": [
    "import numpy as np\n",
    "import pandas as pd\n",
    "import matplotlib.pyplot as plt\n",
    "import seaborn as sns\n",
    "import scipy.stats as stats"
   ]
  },
  {
   "cell_type": "markdown",
   "id": "35c7794c",
   "metadata": {},
   "source": [
    "# Question:\n",
    "\n",
    "\n",
    "A sample of 51 bottles was selected. The standard deviation of these\n",
    "51 bottles was 2.35 cc. Has it increased from the established 2cc?\n",
    "90% confidence level.\n",
    "\n",
    "Chi_sq_cal = (n-1)s^2 / sigma^2"
   ]
  },
  {
   "cell_type": "code",
   "execution_count": 2,
   "id": "9054a88c",
   "metadata": {},
   "outputs": [
    {
     "data": {
      "text/plain": [
       "array([  0.,   1.,   2.,   3.,   4.,   5.,   6.,   7.,   8.,   9.,  10.,\n",
       "        11.,  12.,  13.,  14.,  15.,  16.,  17.,  18.,  19.,  20.,  21.,\n",
       "        22.,  23.,  24.,  25.,  26.,  27.,  28.,  29.,  30.,  31.,  32.,\n",
       "        33.,  34.,  35.,  36.,  37.,  38.,  39.,  40.,  41.,  42.,  43.,\n",
       "        44.,  45.,  46.,  47.,  48.,  49.,  50.,  51.,  52.,  53.,  54.,\n",
       "        55.,  56.,  57.,  58.,  59.,  60.,  61.,  62.,  63.,  64.,  65.,\n",
       "        66.,  67.,  68.,  69.,  70.,  71.,  72.,  73.,  74.,  75.,  76.,\n",
       "        77.,  78.,  79.,  80.,  81.,  82.,  83.,  84.,  85.,  86.,  87.,\n",
       "        88.,  89.,  90.,  91.,  92.,  93.,  94.,  95.,  96.,  97.,  98.,\n",
       "        99., 100.])"
      ]
     },
     "execution_count": 2,
     "metadata": {},
     "output_type": "execute_result"
    }
   ],
   "source": [
    "x_ax = np.linspace(0, 100, 101)\n",
    "x_ax"
   ]
  },
  {
   "cell_type": "code",
   "execution_count": 3,
   "id": "969b9a07",
   "metadata": {},
   "outputs": [
    {
     "data": {
      "text/plain": [
       "array([0.00000000e+00, 2.91338042e-32, 2.96462558e-25, 3.02700284e-21,\n",
       "       1.82976479e-18, 2.35011080e-16, 1.13315939e-14, 2.77886028e-13,\n",
       "       4.15457113e-12, 4.25637120e-11, 3.23647330e-10, 1.93352251e-09,\n",
       "       9.46514893e-09, 3.91986185e-08, 1.40784850e-07, 4.47224968e-07,\n",
       "       1.27663917e-06, 3.31753456e-06, 7.93294099e-06, 1.76129979e-05,\n",
       "       3.65863863e-05, 7.15674349e-05, 1.32571288e-04, 2.33682377e-04,\n",
       "       3.93622990e-04, 6.35950953e-04, 9.88727298e-04, 1.48354004e-03,\n",
       "       2.15384499e-03, 3.03267869e-03, 4.14989705e-03, 5.52917863e-03,\n",
       "       7.18508992e-03, 9.12052932e-03, 1.13248447e-02, 1.37728580e-02,\n",
       "       1.64249396e-02, 1.92281677e-02, 2.21184964e-02, 2.50237625e-02,\n",
       "       2.78672807e-02, 3.05717374e-02, 3.30630785e-02, 3.52741056e-02,\n",
       "       3.71475411e-02, 3.86383815e-02, 3.97154342e-02, 4.03620024e-02,\n",
       "       4.05757513e-02, 4.03678438e-02, 3.97614757e-02, 3.87899640e-02,\n",
       "       3.74945509e-02, 3.59220852e-02, 3.41227216e-02, 3.21477612e-02,\n",
       "       3.00477248e-02, 2.78707233e-02, 2.56611614e-02, 2.34587843e-02,\n",
       "       2.12980573e-02, 1.92078511e-02, 1.72113940e-02, 1.53264455e-02,\n",
       "       1.35656433e-02, 1.19369764e-02, 1.04443397e-02, 9.08813060e-03,\n",
       "       7.86585540e-03, 6.77271796e-03, 5.80217111e-03, 4.94641670e-03,\n",
       "       4.19684572e-03, 3.54441439e-03, 2.97995620e-03, 2.49443211e-03,\n",
       "       2.07912376e-03, 1.72577546e-03, 1.42669161e-03, 1.17479636e-03,\n",
       "       9.63662258e-04, 7.87514165e-04, 6.41214209e-04, 5.20232711e-04,\n",
       "       4.20609487e-04, 3.38909057e-04, 2.72172690e-04, 2.17869551e-04,\n",
       "       1.73848667e-04, 1.38292986e-04, 1.09676348e-04, 8.67239254e-05,\n",
       "       6.83763835e-05, 5.37578381e-05, 4.21475442e-05, 3.29551335e-05,\n",
       "       2.56991583e-05, 1.99886603e-05, 1.55074590e-05, 1.20008568e-05,\n",
       "       9.26446496e-06])"
      ]
     },
     "execution_count": 3,
     "metadata": {},
     "output_type": "execute_result"
    }
   ],
   "source": [
    "y_ax = stats.chi2.pdf(x_ax, df=50)  # pdf give vertical values\n",
    "y_ax"
   ]
  },
  {
   "cell_type": "code",
   "execution_count": 4,
   "id": "b4f86d65",
   "metadata": {},
   "outputs": [
    {
     "data": {
      "text/plain": [
       "<seaborn.axisgrid.FacetGrid at 0x261f5a6ebc8>"
      ]
     },
     "execution_count": 4,
     "metadata": {},
     "output_type": "execute_result"
    },
    {
     "data": {
      "image/png": "[encoded data removed]",
      "text/plain": [
       "<Figure size 360x360 with 1 Axes>"
      ]
     },
     "metadata": {
      "needs_background": "light"
     },
     "output_type": "display_data"
    }
   ],
   "source": [
    "sns.relplot(x=x_ax, y=y_ax, kind='line')"
   ]
  },
  {
   "cell_type": "markdown",
   "id": "39369f12",
   "metadata": {},
   "source": [
    "This is our Chi-Square 50 degree of freedom."
   ]
  },
  {
   "cell_type": "code",
   "execution_count": 5,
   "id": "fc7f2fa9",
   "metadata": {},
   "outputs": [
    {
     "data": {
      "text/plain": [
       "69.03125000000001"
      ]
     },
     "execution_count": 5,
     "metadata": {},
     "output_type": "execute_result"
    }
   ],
   "source": [
    "Chi_sq_cal = (51-1)*(2.35**2)/ (2**2)\n",
    "Chi_sq_cal"
   ]
  },
  {
   "cell_type": "code",
   "execution_count": 6,
   "id": "baca02c7",
   "metadata": {},
   "outputs": [
    {
     "data": {
      "text/plain": [
       "63.167121005726315"
      ]
     },
     "execution_count": 6,
     "metadata": {},
     "output_type": "execute_result"
    }
   ],
   "source": [
    "# Chi Square Critical\n",
    "# 10% area on the right for df=50 at chi-sqr\n",
    "\n",
    "stats.chi2.isf(0.10, 50)"
   ]
  },
  {
   "cell_type": "markdown",
   "id": "910902dc",
   "metadata": {},
   "source": [
    "#### Conclusion: Reject the Null Hypothesis"
   ]
  },
  {
   "cell_type": "code",
   "execution_count": null,
   "id": "610629a9",
   "metadata": {},
   "outputs": [],
   "source": []
  }
 ],
 "metadata": {
  "kernelspec": {
   "display_name": "Python 3",
   "language": "python",
   "name": "python3"
  },
  "language_info": {
   "codemirror_mode": {
    "name": "ipython",
    "version": 3
   },
   "file_extension": ".py",
   "mimetype": "text/x-python",
   "name": "python",
   "nbconvert_exporter": "python",
   "pygments_lexer": "ipython3",
   "version": "3.7.7"
  }
 },
 "nbformat": 4,
 "nbformat_minor": 5
}

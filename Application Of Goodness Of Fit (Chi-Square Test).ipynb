{
 "cells": [
  {
   "cell_type": "code",
   "execution_count": 1,
   "id": "b2a4dec8",
   "metadata": {},
   "outputs": [],
   "source": [
    "import numpy as np\n",
    "import pandas as pd\n",
    "import matplotlib.pyplot as plt\n",
    "import seaborn as sns\n",
    "import scipy.stats as stats"
   ]
  },
  {
   "cell_type": "markdown",
   "id": "c4c4e80a",
   "metadata": {},
   "source": [
    "# Question 1:\n",
    "\n",
    "A coin is tossed 100 times and we got 40 Head & 60 Tails, now we want to check is the coin biased? Check with 95% confidence level."
   ]
  },
  {
   "cell_type": "code",
   "execution_count": 2,
   "id": "e1c97a5d",
   "metadata": {},
   "outputs": [],
   "source": [
    "# Flipping a coin\n",
    "exp = [50, 50]\n",
    "obs = [40, 60]"
   ]
  },
  {
   "cell_type": "code",
   "execution_count": 3,
   "id": "d7e40036",
   "metadata": {},
   "outputs": [
    {
     "data": {
      "text/plain": [
       "Power_divergenceResult(statistic=4.0, pvalue=0.04550026389635857)"
      ]
     },
     "execution_count": 3,
     "metadata": {},
     "output_type": "execute_result"
    }
   ],
   "source": [
    "stats.chisquare(obs, exp)"
   ]
  },
  {
   "cell_type": "markdown",
   "id": "7804b9ef",
   "metadata": {},
   "source": [
    "Now Compare P-Value with Alpha i.e 0.05.\n",
    "\n",
    "- We notice that P-Value < Alpha, Therefore **REJECT** H0.\n",
    "        \n",
    "        (COIN IS BIASED)\n",
    "        \n",
    "<br>\n",
    "_____________________________________________________________________________________________________________________________"
   ]
  },
  {
   "cell_type": "markdown",
   "id": "d2945841",
   "metadata": {},
   "source": [
    "# Question 2:\n",
    "\n",
    "There is a T-shirt manufacturer who is making different size of T-shirts.\n",
    "<br><br>\n",
    "\n",
    "<table>\n",
    "    <tr>\n",
    "        <th> Size </th>\n",
    "        <th> Proportions (%) </th>\n",
    "        <th> Counts </th>\n",
    "    </tr>\n",
    "     <tr>\n",
    "        <td> Small </td>\n",
    "        <td> 0.1 </td>\n",
    "        <td> 25 </td>\n",
    "<!--         <td> 4.3 </td> -->\n",
    "    </tr>\n",
    "    <tr>\n",
    "        <td> Medium </td>\n",
    "        <td> 0.2 </td>\n",
    "        <td> 41 </td>\n",
    "<!--         <td> 4 </td> -->\n",
    "    </tr>\n",
    "    <tr>\n",
    "        <td> Large </td>\n",
    "        <td> 0.4 </td>\n",
    "        <td> 91 </td>\n",
    "<!--         <td> 4.5 </td> -->\n",
    "    </tr>\n",
    "    <tr>\n",
    "        <td> Extra Large </td>\n",
    "        <td> 0.3 </td>\n",
    "        <td> 68 </td>\n",
    "<!--         <td> 5.1 </td> -->\n",
    "    </tr>\n",
    "</table>\n",
    "\n",
    "<br>\n",
    "<br>\n",
    "Now the question is that the sale inline with the expected value? Check with 95% confidence level."
   ]
  },
  {
   "cell_type": "code",
   "execution_count": 5,
   "id": "c3088cbf",
   "metadata": {},
   "outputs": [
    {
     "data": {
      "text/plain": [
       "0    22.5\n",
       "1    45.0\n",
       "2    90.0\n",
       "3    67.5\n",
       "dtype: float64"
      ]
     },
     "execution_count": 5,
     "metadata": {},
     "output_type": "execute_result"
    }
   ],
   "source": [
    "#Shirt Sale\n",
    "exp_r = pd.Series([0.1, 0.2, 0.4, 0.3])\n",
    "obs = pd.Series([25, 41, 91, 68])\n",
    "exp = exp_r * sum(obs) # converting % in numbers\n",
    "exp"
   ]
  },
  {
   "cell_type": "markdown",
   "id": "02a67096",
   "metadata": {},
   "source": [
    "Decimales are excepted."
   ]
  },
  {
   "cell_type": "code",
   "execution_count": 6,
   "id": "22f64938",
   "metadata": {},
   "outputs": [
    {
     "data": {
      "text/plain": [
       "Power_divergenceResult(statistic=0.648148148148148, pvalue=0.8853267818237286)"
      ]
     },
     "execution_count": 6,
     "metadata": {},
     "output_type": "execute_result"
    }
   ],
   "source": [
    "stats.chisquare(obs, exp)"
   ]
  },
  {
   "cell_type": "markdown",
   "id": "f739c04b",
   "metadata": {},
   "source": [
    "Now Compare P-Value with Alpha i.e 0.05.\n",
    "\n",
    "- We notice that P-Value > Alpha, Therefore **FAIL TO REJECT** H0.\n",
    "        \n",
    "<br>\n",
    "_____________________________________________________________________________________________________________________________"
   ]
  },
  {
   "cell_type": "markdown",
   "id": "817416d0",
   "metadata": {},
   "source": [
    "# Question 3:\n",
    "\n",
    "Let's say we roll a die and got values such as \n",
    "\n",
    "obs = [10, 6, 8, 22, 11, 8]\n",
    "\n",
    "Now we want to decide that die is biased or not? Check with 95% confidence level."
   ]
  },
  {
   "cell_type": "code",
   "execution_count": 7,
   "id": "c2fbd023",
   "metadata": {},
   "outputs": [],
   "source": [
    "obs = [10, 6, 8, 22, 11, 8]"
   ]
  },
  {
   "cell_type": "code",
   "execution_count": 8,
   "id": "a324b69d",
   "metadata": {},
   "outputs": [
    {
     "data": {
      "text/plain": [
       "Power_divergenceResult(statistic=15.215384615384615, pvalue=0.009480606629220312)"
      ]
     },
     "execution_count": 8,
     "metadata": {},
     "output_type": "execute_result"
    }
   ],
   "source": [
    "stats.chisquare(obs)"
   ]
  },
  {
   "cell_type": "markdown",
   "id": "c064acd1",
   "metadata": {},
   "source": [
    "Now Compare P-Value with Alpha i.e 0.05.\n",
    "\n",
    "- We notice that P-Value < Alpha, Therefore **REJECT** H0.\n",
    "        \n",
    "        (DIE IS BIASED)\n",
    "        \n",
    "<br>\n",
    "_____________________________________________________________________________________________________________________________"
   ]
  },
  {
   "cell_type": "code",
   "execution_count": null,
   "id": "63d978c6",
   "metadata": {},
   "outputs": [],
   "source": []
  }
 ],
 "metadata": {
  "kernelspec": {
   "display_name": "Python 3",
   "language": "python",
   "name": "python3"
  },
  "language_info": {
   "codemirror_mode": {
    "name": "ipython",
    "version": 3
   },
   "file_extension": ".py",
   "mimetype": "text/x-python",
   "name": "python",
   "nbconvert_exporter": "python",
   "pygments_lexer": "ipython3",
   "version": "3.7.7"
  }
 },
 "nbformat": 4,
 "nbformat_minor": 5
}

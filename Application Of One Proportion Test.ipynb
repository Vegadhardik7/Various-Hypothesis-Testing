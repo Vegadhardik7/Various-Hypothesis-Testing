{
 "cells": [
  {
   "cell_type": "code",
   "execution_count": 1,
   "id": "8024484d",
   "metadata": {},
   "outputs": [],
   "source": [
    "import numpy as np\n",
    "import pandas as pd\n",
    "import matplotlib.pyplot as plt\n",
    "import seaborn as sns\n",
    "import scipy.stats as stats"
   ]
  },
  {
   "cell_type": "code",
   "execution_count": 2,
   "id": "8075b372",
   "metadata": {},
   "outputs": [
    {
     "data": {
      "text/html": [
       "<div>\n",
       "<style scoped>\n",
       "    .dataframe tbody tr th:only-of-type {\n",
       "        vertical-align: middle;\n",
       "    }\n",
       "\n",
       "    .dataframe tbody tr th {\n",
       "        vertical-align: top;\n",
       "    }\n",
       "\n",
       "    .dataframe thead th {\n",
       "        text-align: right;\n",
       "    }\n",
       "</style>\n",
       "<table border=\"1\" class=\"dataframe\">\n",
       "  <thead>\n",
       "    <tr style=\"text-align: right;\">\n",
       "      <th></th>\n",
       "      <th>Name</th>\n",
       "      <th>Smokers</th>\n",
       "    </tr>\n",
       "  </thead>\n",
       "  <tbody>\n",
       "    <tr>\n",
       "      <th>0</th>\n",
       "      <td>Person 1</td>\n",
       "      <td>No</td>\n",
       "    </tr>\n",
       "    <tr>\n",
       "      <th>1</th>\n",
       "      <td>Person 2</td>\n",
       "      <td>No</td>\n",
       "    </tr>\n",
       "    <tr>\n",
       "      <th>2</th>\n",
       "      <td>Person 3</td>\n",
       "      <td>No</td>\n",
       "    </tr>\n",
       "    <tr>\n",
       "      <th>3</th>\n",
       "      <td>Person 4</td>\n",
       "      <td>Yes</td>\n",
       "    </tr>\n",
       "    <tr>\n",
       "      <th>4</th>\n",
       "      <td>Person 5</td>\n",
       "      <td>No</td>\n",
       "    </tr>\n",
       "  </tbody>\n",
       "</table>\n",
       "</div>"
      ],
      "text/plain": [
       "       Name Smokers\n",
       "0  Person 1      No\n",
       "1  Person 2      No\n",
       "2  Person 3      No\n",
       "3  Person 4     Yes\n",
       "4  Person 5      No"
      ]
     },
     "execution_count": 2,
     "metadata": {},
     "output_type": "execute_result"
    }
   ],
   "source": [
    "df = pd.read_csv(r\"D:\\Dig\\00-imarticus\\udemy_data\\Smokers.csv\")\n",
    "df.head()"
   ]
  },
  {
   "cell_type": "code",
   "execution_count": 3,
   "id": "bd6f6c16",
   "metadata": {},
   "outputs": [
    {
     "data": {
      "text/plain": [
       "(100, 2)"
      ]
     },
     "execution_count": 3,
     "metadata": {},
     "output_type": "execute_result"
    }
   ],
   "source": [
    "df.shape"
   ]
  },
  {
   "cell_type": "code",
   "execution_count": 4,
   "id": "c42304af",
   "metadata": {},
   "outputs": [
    {
     "data": {
      "text/html": [
       "<div>\n",
       "<style scoped>\n",
       "    .dataframe tbody tr th:only-of-type {\n",
       "        vertical-align: middle;\n",
       "    }\n",
       "\n",
       "    .dataframe tbody tr th {\n",
       "        vertical-align: top;\n",
       "    }\n",
       "\n",
       "    .dataframe thead th {\n",
       "        text-align: right;\n",
       "    }\n",
       "</style>\n",
       "<table border=\"1\" class=\"dataframe\">\n",
       "  <thead>\n",
       "    <tr style=\"text-align: right;\">\n",
       "      <th></th>\n",
       "      <th>Name</th>\n",
       "    </tr>\n",
       "    <tr>\n",
       "      <th>Smokers</th>\n",
       "      <th></th>\n",
       "    </tr>\n",
       "  </thead>\n",
       "  <tbody>\n",
       "    <tr>\n",
       "      <th>No</th>\n",
       "      <td>86</td>\n",
       "    </tr>\n",
       "    <tr>\n",
       "      <th>Yes</th>\n",
       "      <td>14</td>\n",
       "    </tr>\n",
       "  </tbody>\n",
       "</table>\n",
       "</div>"
      ],
      "text/plain": [
       "         Name\n",
       "Smokers      \n",
       "No         86\n",
       "Yes        14"
      ]
     },
     "execution_count": 4,
     "metadata": {},
     "output_type": "execute_result"
    }
   ],
   "source": [
    "smk = df.groupby('Smokers').count()\n",
    "smk"
   ]
  },
  {
   "cell_type": "code",
   "execution_count": 5,
   "id": "13a6e77b",
   "metadata": {},
   "outputs": [
    {
     "data": {
      "text/html": [
       "<div>\n",
       "<style scoped>\n",
       "    .dataframe tbody tr th:only-of-type {\n",
       "        vertical-align: middle;\n",
       "    }\n",
       "\n",
       "    .dataframe tbody tr th {\n",
       "        vertical-align: top;\n",
       "    }\n",
       "\n",
       "    .dataframe thead th {\n",
       "        text-align: right;\n",
       "    }\n",
       "</style>\n",
       "<table border=\"1\" class=\"dataframe\">\n",
       "  <thead>\n",
       "    <tr style=\"text-align: right;\">\n",
       "      <th></th>\n",
       "      <th>Name</th>\n",
       "    </tr>\n",
       "    <tr>\n",
       "      <th>Smokers</th>\n",
       "      <th></th>\n",
       "    </tr>\n",
       "  </thead>\n",
       "  <tbody>\n",
       "    <tr>\n",
       "      <th>Yes</th>\n",
       "      <td>14</td>\n",
       "    </tr>\n",
       "    <tr>\n",
       "      <th>No</th>\n",
       "      <td>86</td>\n",
       "    </tr>\n",
       "  </tbody>\n",
       "</table>\n",
       "</div>"
      ],
      "text/plain": [
       "         Name\n",
       "Smokers      \n",
       "Yes        14\n",
       "No         86"
      ]
     },
     "execution_count": 5,
     "metadata": {},
     "output_type": "execute_result"
    }
   ],
   "source": [
    "smk = smk.reindex(['Yes','No'])\n",
    "smk"
   ]
  },
  {
   "cell_type": "markdown",
   "id": "15cb3d07",
   "metadata": {},
   "source": [
    "<br>\n",
    "____________________________________________________________________________________________________________________________\n",
    "\n",
    "\n",
    "# Question 1:\n",
    "\n",
    "Somking rate in a town in past was 21%, 100 samples were picked & found 10 smokers. Has smoking habbit changed? Test with 95% confidence level.\n",
    "\n",
    "\n",
    "- Null Hypothesis (H0): P = Po\n",
    "\n",
    "\n",
    "- Alternate Hypothesis (H1): P != Po\n",
    "\n",
    "\n",
    "- Alpha = 1 - 0.95 = 0.05\n",
    "\n",
    "\n",
    "- Z calculated = (Previous% - Present%) / √Present%(1 - Present%)/samples_size\n",
    "\n",
    "            z = P - Po / √Po(1-Po)/n\n",
    "            \n",
    "            \n",
    "**THIS IS A 2 TAIL TEST** so we will be looking 0.025 at extreme LEFT and 0.025 at RIGHT."
   ]
  },
  {
   "cell_type": "markdown",
   "id": "b43452e6",
   "metadata": {},
   "source": [
    "### Case 1: Has smoking habit changed"
   ]
  },
  {
   "cell_type": "code",
   "execution_count": 6,
   "id": "f0c315d3",
   "metadata": {
    "scrolled": true
   },
   "outputs": [
    {
     "data": {
      "text/plain": [
       "0.1092081572082592"
      ]
     },
     "execution_count": 6,
     "metadata": {},
     "output_type": "execute_result"
    }
   ],
   "source": [
    "stats.binom_test(14, 100, p=0.21, alternative='two-sided')       # directly"
   ]
  },
  {
   "cell_type": "markdown",
   "id": "95dad036",
   "metadata": {},
   "source": [
    "Now Compare P-Value with Alpha i.e 0.05.\n",
    "\n",
    "- We notice that P-Value > Alpha, Therefore **FAIL TO REJECT** H0."
   ]
  },
  {
   "cell_type": "code",
   "execution_count": 7,
   "id": "ff737ff7",
   "metadata": {},
   "outputs": [
    {
     "data": {
      "text/plain": [
       "array([0.10920816])"
      ]
     },
     "execution_count": 7,
     "metadata": {},
     "output_type": "execute_result"
    }
   ],
   "source": [
    "stats.binom_test(smk, p=0.21)          # smae as above but (using table)"
   ]
  },
  {
   "cell_type": "markdown",
   "id": "fd61a9e3",
   "metadata": {},
   "source": [
    "Now Compare P-Value with Alpha i.e 0.05.\n",
    "\n",
    "- We notice that P-Value > Alpha, Therefore **FAIL TO REJECT** H0.\n",
    "\n",
    "<br>\n",
    "______________________________________________________________________________________________________________________________"
   ]
  },
  {
   "cell_type": "markdown",
   "id": "4d67295d",
   "metadata": {},
   "source": [
    "# Question 2:\n",
    "\n",
    "Somking rate in a town in past was 21%, 100 samples were picked & found 10 smokers. Has smoking habbit reduced? Test with 95% confidence level.\n",
    "\n",
    "\n",
    "- Null Hypothesis (H0): P = Po\n",
    "\n",
    "\n",
    "- Alternate Hypothesis (H1): P != Po\n",
    "\n",
    "\n",
    "- Alpha = 1 - 0.95 = 0.05\n",
    "\n",
    "\n",
    "- Z calculated = (Previous% - Present%) / √Present%(1 - Present%)/samples_size\n",
    "\n",
    "            z = P - Po / √Po(1-Po)/n\n",
    "            \n",
    "            \n",
    "**THIS IS A 1 TAIL TEST** so we will be looking 0.05 at extreme LEFT."
   ]
  },
  {
   "cell_type": "markdown",
   "id": "bc2b3554",
   "metadata": {},
   "source": [
    "### Case 2: Has smoking reduced? Left tail test"
   ]
  },
  {
   "cell_type": "code",
   "execution_count": 8,
   "id": "6f8024bb",
   "metadata": {},
   "outputs": [
    {
     "data": {
      "text/plain": [
       "0.0504246022155211"
      ]
     },
     "execution_count": 8,
     "metadata": {},
     "output_type": "execute_result"
    }
   ],
   "source": [
    "stats.binom_test(14, 100, p=0.21, alternative='less')"
   ]
  },
  {
   "cell_type": "markdown",
   "id": "33536f91",
   "metadata": {},
   "source": [
    "Now Compare P-Value with Alpha i.e 0.05.\n",
    "\n",
    "- We notice that P-Value > Alpha, Therefore **FAIL TO REJECT** H0.\n",
    "\n",
    "Using Normal Approximation we rejected the Null, but using Binomial we failed to reject.\n"
   ]
  },
  {
   "cell_type": "code",
   "execution_count": 9,
   "id": "f878171f",
   "metadata": {},
   "outputs": [
    {
     "data": {
      "text/plain": [
       "array([0.0504246])"
      ]
     },
     "execution_count": 9,
     "metadata": {},
     "output_type": "execute_result"
    }
   ],
   "source": [
    "stats.binom_test(smk, p=0.21, alternative='less')"
   ]
  },
  {
   "cell_type": "markdown",
   "id": "c09cf765",
   "metadata": {},
   "source": [
    "Now Compare P-Value with Alpha i.e 0.05.\n",
    "\n",
    "- We notice that P-Value > Alpha, Therefore **FAIL TO REJECT** H0.\n",
    "\n",
    "Using Normal Approximation we rejected the Null, but using Binomial we failed to reject."
   ]
  },
  {
   "cell_type": "code",
   "execution_count": null,
   "id": "98074375",
   "metadata": {},
   "outputs": [],
   "source": []
  }
 ],
 "metadata": {
  "kernelspec": {
   "display_name": "Python 3",
   "language": "python",
   "name": "python3"
  },
  "language_info": {
   "codemirror_mode": {
    "name": "ipython",
    "version": 3
   },
   "file_extension": ".py",
   "mimetype": "text/x-python",
   "name": "python",
   "nbconvert_exporter": "python",
   "pygments_lexer": "ipython3",
   "version": "3.7.7"
  }
 },
 "nbformat": 4,
 "nbformat_minor": 5
}

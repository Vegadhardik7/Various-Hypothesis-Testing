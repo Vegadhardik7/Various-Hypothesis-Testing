{
 "cells": [
  {
   "cell_type": "code",
   "execution_count": 1,
   "id": "e28e0ae9",
   "metadata": {},
   "outputs": [],
   "source": [
    "import numpy as np\n",
    "import pandas as pd\n",
    "import matplotlib.pyplot as plt\n",
    "import seaborn as sns\n",
    "from statsmodels.stats import proportion "
   ]
  },
  {
   "cell_type": "markdown",
   "id": "c603d020",
   "metadata": {},
   "source": [
    "# Question:\n",
    "\n",
    "(POOLED)\n",
    "\n",
    "From vendor_A we test 200 piecies & find 30 defective. From vendor_B we test 100 piecies and found 10 defective. Is there a significant difference in the quality of these 2 vendors? use 95% confidence level."
   ]
  },
  {
   "cell_type": "code",
   "execution_count": 2,
   "id": "88cb07b9",
   "metadata": {},
   "outputs": [
    {
     "data": {
      "text/plain": [
       "<class 'statsmodels.stats.base.HolderTuple'>\n",
       "statistic = 1.1989578808281796\n",
       "pvalue = 0.2305443235633593\n",
       "compare = diff\n",
       "method = score\n",
       "variance = 0.001739130434782609\n",
       "alternative = two-sided\n",
       "prop1_null = 0.13333333333333333\n",
       "prop2_null = 0.13333333333333333\n",
       "tuple = (1.1989578808281796, 0.2305443235633593)\n",
       "diff = 0.04999999999999999\n",
       "ratio = 1.4999999999999998\n",
       "odds_ratio = 1.588235294117647\n",
       "value = 0"
      ]
     },
     "execution_count": 2,
     "metadata": {},
     "output_type": "execute_result"
    }
   ],
   "source": [
    "cnt1 = 30\n",
    "num_of_observation1 = 200\n",
    "\n",
    "cnt2 = 10\n",
    "num_of_observation2 = 100\n",
    "\n",
    "proportion.test_proportions_2indep(count1 = cnt1,\n",
    "                                   nobs1 = num_of_observation1,\n",
    "                                   count2 = cnt2,\n",
    "                                   nobs2 = num_of_observation2,\n",
    "                                   method='score')"
   ]
  },
  {
   "cell_type": "markdown",
   "id": "78f8e22a",
   "metadata": {},
   "source": [
    "Now Compare P-Value with Alpha i.e 0.05.\n",
    "\n",
    "- We notice that P-Value > Alpha, Therefore **FAIL TO REJECT** H0.\n",
    "\n",
    "<br>\n",
    "_____________________________________________________________________________________________________________________________"
   ]
  },
  {
   "cell_type": "code",
   "execution_count": null,
   "id": "0706d402",
   "metadata": {},
   "outputs": [],
   "source": []
  }
 ],
 "metadata": {
  "kernelspec": {
   "display_name": "Python 3",
   "language": "python",
   "name": "python3"
  },
  "language_info": {
   "codemirror_mode": {
    "name": "ipython",
    "version": 3
   },
   "file_extension": ".py",
   "mimetype": "text/x-python",
   "name": "python",
   "nbconvert_exporter": "python",
   "pygments_lexer": "ipython3",
   "version": "3.7.7"
  }
 },
 "nbformat": 4,
 "nbformat_minor": 5
}

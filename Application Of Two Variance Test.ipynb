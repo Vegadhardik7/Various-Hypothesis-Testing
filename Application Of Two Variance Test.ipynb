{
 "cells": [
  {
   "cell_type": "code",
   "execution_count": 1,
   "id": "83943117",
   "metadata": {},
   "outputs": [],
   "source": [
    "import numpy as np\n",
    "import pandas as pd\n",
    "import seaborn as sns\n",
    "from scipy.stats import f\n",
    "import matplotlib.pyplot as plt\n",
    "import scipy.stats as stats"
   ]
  },
  {
   "cell_type": "markdown",
   "id": "ed88fe84",
   "metadata": {},
   "source": [
    "# Question:\n",
    "\n",
    "We took 8 samples from machine_A & the standard deviation is 1.1; We took 5 samples from machine_B & the variance is 11. Is there a difference in variance at 90% confidence level?"
   ]
  },
  {
   "cell_type": "code",
   "execution_count": 2,
   "id": "f756cb5e",
   "metadata": {},
   "outputs": [
    {
     "data": {
      "text/plain": [
       "9.09090909090909"
      ]
     },
     "execution_count": 2,
     "metadata": {},
     "output_type": "execute_result"
    }
   ],
   "source": [
    "F_cal = 11/(1.1**2)        # Higher_Variance / Lower_Variance\n",
    "F_cal"
   ]
  },
  {
   "cell_type": "code",
   "execution_count": 3,
   "id": "65a922cf",
   "metadata": {},
   "outputs": [
    {
     "name": "stdout",
     "output_type": "stream",
     "text": [
      "This is the critical value on right: 4.120311726897633\n",
      "This is the critical value on left: 0.1640901524729093\n"
     ]
    }
   ],
   "source": [
    "# Finding 2 critical value one on the left and one on the right\n",
    "\n",
    "\n",
    "\n",
    "\n",
    "# This is the critical value on right\n",
    "critical_value_on_right = f.isf(0.05, dfn=4, dfd=7) # Degree of Freedom of Numerator & Degree of Freedom of Denominator\n",
    "print(f\"This is the critical value on right: {critical_value_on_right}\")\n",
    "\n",
    "\n",
    "\n",
    "# This is the critical value on left\n",
    "critical_value_on_left = f.isf(0.95, dfn=4, dfd=7) # Degree of Freedom of Numerator & Degree of Freedom of Denominator\n",
    "print(f\"This is the critical value on left: {critical_value_on_left}\")"
   ]
  },
  {
   "cell_type": "markdown",
   "id": "e968122a",
   "metadata": {},
   "source": [
    "Now Compare Z_cal with critical_value_on_right.\n",
    "\n",
    "- We notice that Z_cal > critical_value_on_right, Therefore **REJECT** H0.\n",
    "\n",
    "<br>\n",
    "_____________________________________________________________________________________________________________________________"
   ]
  },
  {
   "cell_type": "markdown",
   "id": "7e6c2d97",
   "metadata": {},
   "source": [
    "# Bartlett Test\n",
    "\n",
    "- Assumese that both samples are **normally distributed**."
   ]
  },
  {
   "cell_type": "code",
   "execution_count": 4,
   "id": "51189329",
   "metadata": {},
   "outputs": [
    {
     "name": "stdout",
     "output_type": "stream",
     "text": [
      "Standard Deviation Of m1: 1.165922381636102\n",
      "Standard Deviation Of m2: 10.9288608738514\n"
     ]
    }
   ],
   "source": [
    "m1 = [150, 150, 151, 148, 151, 152, 149, 150]\n",
    "print(f\"Standard Deviation Of m1: {np.std(m1)}\")\n",
    "\n",
    "m2 = [135, 152, 154, 169, 157]\n",
    "print(f\"Standard Deviation Of m2: {np.std(m2)}\")"
   ]
  },
  {
   "cell_type": "code",
   "execution_count": 5,
   "id": "18ef03dd",
   "metadata": {},
   "outputs": [
    {
     "data": {
      "text/plain": [
       "BartlettResult(statistic=19.105727631632714, pvalue=1.2367317910523616e-05)"
      ]
     },
     "execution_count": 5,
     "metadata": {},
     "output_type": "execute_result"
    }
   ],
   "source": [
    "# use to find equality in the variances\n",
    "\n",
    "stats.bartlett(m1, m2)"
   ]
  },
  {
   "cell_type": "markdown",
   "id": "9d9487b1",
   "metadata": {},
   "source": [
    "Now Compare P-Value with Alpha i.e 0.05.\n",
    "\n",
    "- We notice that P-value < Alpha, Therefore **REJECT** H0.\n",
    "\n",
    "<br>\n",
    "_____________________________________________________________________________________________________________________________"
   ]
  },
  {
   "cell_type": "markdown",
   "id": "6e56a9e5",
   "metadata": {},
   "source": [
    "# Levene Test\n",
    "\n",
    "- Use when we dont know that our data is normally distributed or not.\n",
    "- More Stronger.\n",
    "- More Robust.\n",
    "- Dose not assume anything."
   ]
  },
  {
   "cell_type": "code",
   "execution_count": 6,
   "id": "6a8ef5f1",
   "metadata": {},
   "outputs": [
    {
     "data": {
      "text/plain": [
       "LeveneResult(statistic=5.416245804750017, pvalue=0.040060452607943706)"
      ]
     },
     "execution_count": 6,
     "metadata": {},
     "output_type": "execute_result"
    }
   ],
   "source": [
    "# use to find equality in the variances\n",
    "\n",
    "stats.levene(m1, m2)"
   ]
  },
  {
   "cell_type": "markdown",
   "id": "e82a4100",
   "metadata": {},
   "source": [
    "Now Compare P-Value with Alpha i.e 0.05.\n",
    "\n",
    "- We notice that P-value < Alpha, Therefore **REJECT** H0.\n",
    "\n",
    "<br>\n",
    "_____________________________________________________________________________________________________________________________"
   ]
  },
  {
   "cell_type": "code",
   "execution_count": null,
   "id": "dc317cd3",
   "metadata": {},
   "outputs": [],
   "source": []
  }
 ],
 "metadata": {
  "kernelspec": {
   "display_name": "Python 3",
   "language": "python",
   "name": "python3"
  },
  "language_info": {
   "codemirror_mode": {
    "name": "ipython",
    "version": 3
   },
   "file_extension": ".py",
   "mimetype": "text/x-python",
   "name": "python",
   "nbconvert_exporter": "python",
   "pygments_lexer": "ipython3",
   "version": "3.7.7"
  }
 },
 "nbformat": 4,
 "nbformat_minor": 5
}

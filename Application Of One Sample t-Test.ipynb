{
 "cells": [
  {
   "cell_type": "markdown",
   "id": "94ce52ae",
   "metadata": {},
   "source": [
    "# Question 1:\n",
    "\n",
    "Perfume bottle producing 150cc, 4 bottlesare randomlly selected and the average volumne was found to be 151cc and Standard Deviation of the sample bottles was 2cc. Has Mean Volume chnaged? Test with 95% confidence level.\n",
    "\n",
    "\n",
    "- Null Hypothesis (H0): Mean volume = 150cc\n",
    "\n",
    "\n",
    "- Alternate Hypothesis (H1): Mean volume != 150cc\n",
    "\n",
    "\n",
    "- Alpha = 1 - 0.95 = 0.05\n",
    "\n",
    "\n",
    "- Z calculated = (Observed mean - population mean) / standard error\n",
    "\n",
    "            z = (x — μ) / (s / √n)\n",
    "            \n",
    "            \n",
    "**THIS IS A 2 TAIL TEST** so we will be looking 0.025 at extreme LEFT and 0.025 at RIGHT."
   ]
  },
  {
   "cell_type": "code",
   "execution_count": 1,
   "id": "c1ffaa2c",
   "metadata": {},
   "outputs": [],
   "source": [
    "import numpy as np\n",
    "import pandas as pd\n",
    "import matplotlib.pyplot as plt\n",
    "import seaborn as sns\n",
    "import scipy.stats as stats\n",
    "from statsmodels.stats import weightstats"
   ]
  },
  {
   "cell_type": "code",
   "execution_count": 2,
   "id": "64ca53f1",
   "metadata": {},
   "outputs": [
    {
     "data": {
      "text/plain": [
       "count      4.000000\n",
       "mean     151.000000\n",
       "std        2.004994\n",
       "min      148.500000\n",
       "25%      150.300000\n",
       "50%      151.050000\n",
       "75%      151.750000\n",
       "max      153.400000\n",
       "dtype: float64"
      ]
     },
     "execution_count": 2,
     "metadata": {},
     "output_type": "execute_result"
    }
   ],
   "source": [
    "volume = pd.Series([148.5, 153.4, 150.9, 151.2])\n",
    "volume.describe()"
   ]
  },
  {
   "cell_type": "code",
   "execution_count": 6,
   "id": "0e19cfad",
   "metadata": {},
   "outputs": [
    {
     "name": "stdout",
     "output_type": "stream",
     "text": [
      "t-Calculated: 0.997509336107632\n",
      "P-Value: 0.3920333832606524\n"
     ]
    }
   ],
   "source": [
    "t_cal, P_value = stats.ttest_1samp(volume, 150)\n",
    "\n",
    "print(f\"t-Calculated: {t_cal}\")\n",
    "print(f\"P-Value: {P_value}\")"
   ]
  },
  {
   "cell_type": "markdown",
   "id": "c7127067",
   "metadata": {},
   "source": [
    "Now Compare P-Value with Alpha i.e 0.05.\n",
    "\n",
    "- We notice that P-Value > Alpha, Therefore **FAIL TO REJECT** H0.\n"
   ]
  },
  {
   "cell_type": "code",
   "execution_count": null,
   "id": "dac192a9",
   "metadata": {},
   "outputs": [],
   "source": []
  }
 ],
 "metadata": {
  "kernelspec": {
   "display_name": "Python 3",
   "language": "python",
   "name": "python3"
  },
  "language_info": {
   "codemirror_mode": {
    "name": "ipython",
    "version": 3
   },
   "file_extension": ".py",
   "mimetype": "text/x-python",
   "name": "python",
   "nbconvert_exporter": "python",
   "pygments_lexer": "ipython3",
   "version": "3.7.7"
  }
 },
 "nbformat": 4,
 "nbformat_minor": 5
}
